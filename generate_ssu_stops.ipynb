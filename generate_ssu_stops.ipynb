{
 "cells": [
  {
   "cell_type": "markdown",
   "id": "80cec2fd-1977-4d07-93d1-3cc3204eb391",
   "metadata": {},
   "source": [
    "# Generate new SSU dataset\n",
    "\n",
    "My existing SSU dataset has realistic arrival times but rather unrealistic LOS. More realistic would be:\n",
    "\n",
    "- Arteriogram - 1-2 hrs for procedure, 4-6 hrs for recovery\n",
    "- Cardiac cath - 2-6 hours for recovery\n",
    "- IV Therapy - a few hours\n",
    "- Myelogram - a few hours for recovery\n",
    "- Other - a few hours up to 24 hours\n",
    "\n",
    "Let's generate an updated version using more realistic LOS that are on the order of a few hours.\n",
    "\n",
    "- Arteriogram - 1-2 hrs for procedure, 4-6 hrs for recovery\n",
    "- Cardiac cath - 2-6 hours for recovery\n",
    "- IV Therapy - a few hours\n",
    "- Myelogram - a few hours for recovery\n",
    "- Other - a few hours up to 24 hours"
   ]
  },
  {
   "cell_type": "code",
   "execution_count": 1,
   "id": "df82b216-ab87-41d9-bec3-61a1aedcf445",
   "metadata": {},
   "outputs": [],
   "source": [
    "import pandas as pd\n",
    "from numpy.random import default_rng"
   ]
  },
  {
   "cell_type": "code",
   "execution_count": 2,
   "id": "f17e52f7-309a-4720-b3e0-bc0b5cc5cd28",
   "metadata": {},
   "outputs": [],
   "source": [
    "ssu_stopdata = './data/ShortStay.csv'\n",
    "ssu_stops_df = pd.read_csv(ssu_stopdata, parse_dates=['InRoomTS','OutRoomTS'])"
   ]
  },
  {
   "cell_type": "code",
   "execution_count": 4,
   "id": "9686fa28-65b6-42f9-a4bf-09d14d988d0c",
   "metadata": {},
   "outputs": [
    {
     "data": {
      "text/html": [
       "<div>\n",
       "<style scoped>\n",
       "    .dataframe tbody tr th:only-of-type {\n",
       "        vertical-align: middle;\n",
       "    }\n",
       "\n",
       "    .dataframe tbody tr th {\n",
       "        vertical-align: top;\n",
       "    }\n",
       "\n",
       "    .dataframe thead th {\n",
       "        text-align: right;\n",
       "    }\n",
       "</style>\n",
       "<table border=\"1\" class=\"dataframe\">\n",
       "  <thead>\n",
       "    <tr style=\"text-align: right;\">\n",
       "      <th></th>\n",
       "      <th>PatID</th>\n",
       "      <th>InRoomTS</th>\n",
       "      <th>OutRoomTS</th>\n",
       "      <th>PatType</th>\n",
       "    </tr>\n",
       "  </thead>\n",
       "  <tbody>\n",
       "    <tr>\n",
       "      <th>0</th>\n",
       "      <td>1</td>\n",
       "      <td>1996-01-01 07:44:00</td>\n",
       "      <td>1996-01-01 08:50:00</td>\n",
       "      <td>IVT</td>\n",
       "    </tr>\n",
       "    <tr>\n",
       "      <th>1</th>\n",
       "      <td>2</td>\n",
       "      <td>1996-01-01 08:28:00</td>\n",
       "      <td>1996-01-01 09:20:00</td>\n",
       "      <td>IVT</td>\n",
       "    </tr>\n",
       "    <tr>\n",
       "      <th>2</th>\n",
       "      <td>3</td>\n",
       "      <td>1996-01-01 11:44:00</td>\n",
       "      <td>1996-01-01 13:30:00</td>\n",
       "      <td>MYE</td>\n",
       "    </tr>\n",
       "    <tr>\n",
       "      <th>3</th>\n",
       "      <td>4</td>\n",
       "      <td>1996-01-01 11:51:00</td>\n",
       "      <td>1996-01-01 12:55:00</td>\n",
       "      <td>CAT</td>\n",
       "    </tr>\n",
       "    <tr>\n",
       "      <th>4</th>\n",
       "      <td>5</td>\n",
       "      <td>1996-01-01 12:10:00</td>\n",
       "      <td>1996-01-01 13:00:00</td>\n",
       "      <td>IVT</td>\n",
       "    </tr>\n",
       "  </tbody>\n",
       "</table>\n",
       "</div>"
      ],
      "text/plain": [
       "   PatID            InRoomTS           OutRoomTS PatType\n",
       "0      1 1996-01-01 07:44:00 1996-01-01 08:50:00     IVT\n",
       "1      2 1996-01-01 08:28:00 1996-01-01 09:20:00     IVT\n",
       "2      3 1996-01-01 11:44:00 1996-01-01 13:30:00     MYE\n",
       "3      4 1996-01-01 11:51:00 1996-01-01 12:55:00     CAT\n",
       "4      5 1996-01-01 12:10:00 1996-01-01 13:00:00     IVT"
      ]
     },
     "execution_count": 4,
     "metadata": {},
     "output_type": "execute_result"
    }
   ],
   "source": [
    "ssu_stops_df.head()"
   ]
  },
  {
   "cell_type": "markdown",
   "id": "33b0b068-ac16-41b4-adaf-adda150ab350",
   "metadata": {},
   "source": [
    "Now we'll generate a new LOS in hours"
   ]
  },
  {
   "cell_type": "code",
   "execution_count": 10,
   "id": "5b65a1de-d5ca-4810-905e-295adb1fe91f",
   "metadata": {},
   "outputs": [],
   "source": [
    "def new_los(rg, pat_type):\n",
    "    \n",
    "    art_mean = 4\n",
    "    art_k = 4\n",
    "    art_stage_mean = art_mean / art_k\n",
    "\n",
    "    cat_mean = 5\n",
    "    cat_k = 2\n",
    "    cat_stage_mean = cat_mean / cat_k\n",
    "\n",
    "    iv_mean = 2\n",
    "    iv_k = 4\n",
    "    iv_stage_mean = iv_mean / iv_k\n",
    "\n",
    "    mye_mean = 2\n",
    "    mye_k = 3\n",
    "    mye_stage_mean = mye_mean / mye_k\n",
    "\n",
    "    other_mean = 8\n",
    "    other_k = 6\n",
    "    other_stage_mean = other_mean / other_k\n",
    "    \n",
    "    if pat_type == 'ART':\n",
    "        return rg.gamma(art_k, art_stage_mean)\n",
    "    elif pat_type == 'CAT':\n",
    "        return rg.gamma(cat_k, cat_stage_mean)\n",
    "    elif pat_type == 'IVT':\n",
    "        return rg.gamma(iv_k, iv_stage_mean)\n",
    "    elif pat_type == 'MYE':\n",
    "        return rg.gamma(mye_k, mye_stage_mean)\n",
    "    else: \n",
    "        return rg.gamma(other_k, other_stage_mean)\n"
   ]
  },
  {
   "cell_type": "markdown",
   "id": "6ae0d134-ada1-45d3-b01d-1b8bbd699a5e",
   "metadata": {},
   "source": [
    "Initialize a random number generator"
   ]
  },
  {
   "cell_type": "code",
   "execution_count": 8,
   "id": "bff0350a-9fdd-40c7-89f7-27d02f228d78",
   "metadata": {},
   "outputs": [],
   "source": [
    "import secrets\n",
    "\n",
    "seed = secrets.randbits(128)\n",
    "rg = default_rng(seed=seed)"
   ]
  },
  {
   "cell_type": "code",
   "execution_count": 14,
   "id": "5a4a2cd9-b843-456c-8d9b-8a8321017266",
   "metadata": {},
   "outputs": [
    {
     "data": {
      "text/plain": [
       "5.117157791063751"
      ]
     },
     "execution_count": 14,
     "metadata": {},
     "output_type": "execute_result"
    }
   ],
   "source": [
    "new_los(rg, 'IVT')"
   ]
  },
  {
   "cell_type": "code",
   "execution_count": 40,
   "id": "615732d4-2083-49e2-9deb-148f101842a4",
   "metadata": {},
   "outputs": [],
   "source": [
    "ssu_stops_df['new_los_minutes'] = ssu_stops_df.apply(lambda x: int(new_los(rg, x.PatType) * 60), axis=1)"
   ]
  },
  {
   "cell_type": "code",
   "execution_count": 41,
   "id": "e889fb9e-5cb7-4e72-a3e5-ed6350fbc71c",
   "metadata": {},
   "outputs": [
    {
     "data": {
      "text/html": [
       "<div>\n",
       "<style scoped>\n",
       "    .dataframe tbody tr th:only-of-type {\n",
       "        vertical-align: middle;\n",
       "    }\n",
       "\n",
       "    .dataframe tbody tr th {\n",
       "        vertical-align: top;\n",
       "    }\n",
       "\n",
       "    .dataframe thead th {\n",
       "        text-align: right;\n",
       "    }\n",
       "</style>\n",
       "<table border=\"1\" class=\"dataframe\">\n",
       "  <thead>\n",
       "    <tr style=\"text-align: right;\">\n",
       "      <th></th>\n",
       "      <th>PatID</th>\n",
       "      <th>InRoomTS</th>\n",
       "      <th>OutRoomTS</th>\n",
       "      <th>PatType</th>\n",
       "      <th>new_los_hours</th>\n",
       "      <th>new_InRoomTS</th>\n",
       "      <th>new_OutRoomTS</th>\n",
       "      <th>new_los_minutes</th>\n",
       "    </tr>\n",
       "  </thead>\n",
       "  <tbody>\n",
       "    <tr>\n",
       "      <th>0</th>\n",
       "      <td>1</td>\n",
       "      <td>1996-01-01 07:44:00</td>\n",
       "      <td>1996-01-01 08:50:00</td>\n",
       "      <td>IVT</td>\n",
       "      <td>1.481479</td>\n",
       "      <td>2024-01-01 07:44:00</td>\n",
       "      <td>2024-01-01 09:12:53.323233600</td>\n",
       "      <td>96</td>\n",
       "    </tr>\n",
       "    <tr>\n",
       "      <th>1</th>\n",
       "      <td>2</td>\n",
       "      <td>1996-01-01 08:28:00</td>\n",
       "      <td>1996-01-01 09:20:00</td>\n",
       "      <td>IVT</td>\n",
       "      <td>1.311995</td>\n",
       "      <td>2024-01-01 08:28:00</td>\n",
       "      <td>2024-01-01 09:46:43.183224000</td>\n",
       "      <td>165</td>\n",
       "    </tr>\n",
       "    <tr>\n",
       "      <th>2</th>\n",
       "      <td>3</td>\n",
       "      <td>1996-01-01 11:44:00</td>\n",
       "      <td>1996-01-01 13:30:00</td>\n",
       "      <td>MYE</td>\n",
       "      <td>2.162773</td>\n",
       "      <td>2024-01-01 11:44:00</td>\n",
       "      <td>2024-01-01 13:53:45.983700000</td>\n",
       "      <td>64</td>\n",
       "    </tr>\n",
       "    <tr>\n",
       "      <th>3</th>\n",
       "      <td>4</td>\n",
       "      <td>1996-01-01 11:51:00</td>\n",
       "      <td>1996-01-01 12:55:00</td>\n",
       "      <td>CAT</td>\n",
       "      <td>9.932870</td>\n",
       "      <td>2024-01-01 11:51:00</td>\n",
       "      <td>2024-01-01 21:46:58.332288000</td>\n",
       "      <td>559</td>\n",
       "    </tr>\n",
       "    <tr>\n",
       "      <th>4</th>\n",
       "      <td>5</td>\n",
       "      <td>1996-01-01 12:10:00</td>\n",
       "      <td>1996-01-01 13:00:00</td>\n",
       "      <td>IVT</td>\n",
       "      <td>1.742876</td>\n",
       "      <td>2024-01-01 12:10:00</td>\n",
       "      <td>2024-01-01 13:54:34.353366000</td>\n",
       "      <td>47</td>\n",
       "    </tr>\n",
       "  </tbody>\n",
       "</table>\n",
       "</div>"
      ],
      "text/plain": [
       "   PatID            InRoomTS           OutRoomTS PatType  new_los_hours  \\\n",
       "0      1 1996-01-01 07:44:00 1996-01-01 08:50:00     IVT       1.481479   \n",
       "1      2 1996-01-01 08:28:00 1996-01-01 09:20:00     IVT       1.311995   \n",
       "2      3 1996-01-01 11:44:00 1996-01-01 13:30:00     MYE       2.162773   \n",
       "3      4 1996-01-01 11:51:00 1996-01-01 12:55:00     CAT       9.932870   \n",
       "4      5 1996-01-01 12:10:00 1996-01-01 13:00:00     IVT       1.742876   \n",
       "\n",
       "         new_InRoomTS                 new_OutRoomTS  new_los_minutes  \n",
       "0 2024-01-01 07:44:00 2024-01-01 09:12:53.323233600               96  \n",
       "1 2024-01-01 08:28:00 2024-01-01 09:46:43.183224000              165  \n",
       "2 2024-01-01 11:44:00 2024-01-01 13:53:45.983700000               64  \n",
       "3 2024-01-01 11:51:00 2024-01-01 21:46:58.332288000              559  \n",
       "4 2024-01-01 12:10:00 2024-01-01 13:54:34.353366000               47  "
      ]
     },
     "execution_count": 41,
     "metadata": {},
     "output_type": "execute_result"
    }
   ],
   "source": [
    "ssu_stops_df.head()"
   ]
  },
  {
   "cell_type": "code",
   "execution_count": 21,
   "id": "305423e4-4992-46fc-bcc0-78d14dc26bd3",
   "metadata": {},
   "outputs": [
    {
     "data": {
      "text/plain": [
       "0"
      ]
     },
     "execution_count": 21,
     "metadata": {},
     "output_type": "execute_result"
    }
   ],
   "source": [
    "day1 = pd.Timestamp('1996-01-01')\n",
    "day1.weekday()"
   ]
  },
  {
   "cell_type": "markdown",
   "id": "f0691608-1616-475e-9456-c94ae96c3cc6",
   "metadata": {},
   "source": [
    "Need to find a year in which Jan 1 is a Monday and that is a leap year (since 1996 is a leap year)."
   ]
  },
  {
   "cell_type": "code",
   "execution_count": 29,
   "id": "d20f7fae-5e7d-4787-b1ca-287bad8fb9f5",
   "metadata": {},
   "outputs": [
    {
     "data": {
      "text/plain": [
       "0"
      ]
     },
     "execution_count": 29,
     "metadata": {},
     "output_type": "execute_result"
    }
   ],
   "source": [
    "new_day1 = pd.Timestamp('2024-01-01')\n",
    "new_day1.weekday()"
   ]
  },
  {
   "cell_type": "code",
   "execution_count": 33,
   "id": "1022e18c-12e6-49a7-9aea-ada79dc43d06",
   "metadata": {},
   "outputs": [
    {
     "data": {
      "text/plain": [
       "Timedelta('10227 days 00:00:00')"
      ]
     },
     "execution_count": 33,
     "metadata": {},
     "output_type": "execute_result"
    }
   ],
   "source": [
    "new_day1 - day1"
   ]
  },
  {
   "cell_type": "code",
   "execution_count": 34,
   "id": "c22e68a2-a9e5-4b3e-8702-312715034bbf",
   "metadata": {},
   "outputs": [],
   "source": [
    "ssu_stops_df['new_InRoomTS'] = ssu_stops_df['InRoomTS'] + pd.Timedelta(10227, 'd')"
   ]
  },
  {
   "cell_type": "code",
   "execution_count": 35,
   "id": "e21737bc-f0b6-4db3-8f30-844ac3c56594",
   "metadata": {},
   "outputs": [
    {
     "data": {
      "text/html": [
       "<div>\n",
       "<style scoped>\n",
       "    .dataframe tbody tr th:only-of-type {\n",
       "        vertical-align: middle;\n",
       "    }\n",
       "\n",
       "    .dataframe tbody tr th {\n",
       "        vertical-align: top;\n",
       "    }\n",
       "\n",
       "    .dataframe thead th {\n",
       "        text-align: right;\n",
       "    }\n",
       "</style>\n",
       "<table border=\"1\" class=\"dataframe\">\n",
       "  <thead>\n",
       "    <tr style=\"text-align: right;\">\n",
       "      <th></th>\n",
       "      <th>PatID</th>\n",
       "      <th>InRoomTS</th>\n",
       "      <th>OutRoomTS</th>\n",
       "      <th>PatType</th>\n",
       "      <th>new_los_hours</th>\n",
       "      <th>new_InRoomTS</th>\n",
       "    </tr>\n",
       "  </thead>\n",
       "  <tbody>\n",
       "    <tr>\n",
       "      <th>0</th>\n",
       "      <td>1</td>\n",
       "      <td>1996-01-01 07:44:00</td>\n",
       "      <td>1996-01-01 08:50:00</td>\n",
       "      <td>IVT</td>\n",
       "      <td>1.481479</td>\n",
       "      <td>2024-01-01 07:44:00</td>\n",
       "    </tr>\n",
       "    <tr>\n",
       "      <th>1</th>\n",
       "      <td>2</td>\n",
       "      <td>1996-01-01 08:28:00</td>\n",
       "      <td>1996-01-01 09:20:00</td>\n",
       "      <td>IVT</td>\n",
       "      <td>1.311995</td>\n",
       "      <td>2024-01-01 08:28:00</td>\n",
       "    </tr>\n",
       "    <tr>\n",
       "      <th>2</th>\n",
       "      <td>3</td>\n",
       "      <td>1996-01-01 11:44:00</td>\n",
       "      <td>1996-01-01 13:30:00</td>\n",
       "      <td>MYE</td>\n",
       "      <td>2.162773</td>\n",
       "      <td>2024-01-01 11:44:00</td>\n",
       "    </tr>\n",
       "    <tr>\n",
       "      <th>3</th>\n",
       "      <td>4</td>\n",
       "      <td>1996-01-01 11:51:00</td>\n",
       "      <td>1996-01-01 12:55:00</td>\n",
       "      <td>CAT</td>\n",
       "      <td>9.932870</td>\n",
       "      <td>2024-01-01 11:51:00</td>\n",
       "    </tr>\n",
       "    <tr>\n",
       "      <th>4</th>\n",
       "      <td>5</td>\n",
       "      <td>1996-01-01 12:10:00</td>\n",
       "      <td>1996-01-01 13:00:00</td>\n",
       "      <td>IVT</td>\n",
       "      <td>1.742876</td>\n",
       "      <td>2024-01-01 12:10:00</td>\n",
       "    </tr>\n",
       "  </tbody>\n",
       "</table>\n",
       "</div>"
      ],
      "text/plain": [
       "   PatID            InRoomTS           OutRoomTS PatType  new_los_hours  \\\n",
       "0      1 1996-01-01 07:44:00 1996-01-01 08:50:00     IVT       1.481479   \n",
       "1      2 1996-01-01 08:28:00 1996-01-01 09:20:00     IVT       1.311995   \n",
       "2      3 1996-01-01 11:44:00 1996-01-01 13:30:00     MYE       2.162773   \n",
       "3      4 1996-01-01 11:51:00 1996-01-01 12:55:00     CAT       9.932870   \n",
       "4      5 1996-01-01 12:10:00 1996-01-01 13:00:00     IVT       1.742876   \n",
       "\n",
       "         new_InRoomTS  \n",
       "0 2024-01-01 07:44:00  \n",
       "1 2024-01-01 08:28:00  \n",
       "2 2024-01-01 11:44:00  \n",
       "3 2024-01-01 11:51:00  \n",
       "4 2024-01-01 12:10:00  "
      ]
     },
     "execution_count": 35,
     "metadata": {},
     "output_type": "execute_result"
    }
   ],
   "source": [
    "ssu_stops_df.head()"
   ]
  },
  {
   "cell_type": "code",
   "execution_count": 42,
   "id": "504ff48a-4287-4f56-bcb1-1e299c230b88",
   "metadata": {},
   "outputs": [],
   "source": [
    "ssu_stops_df['new_OutRoomTS'] = ssu_stops_df.apply(lambda x: x.new_InRoomTS + pd.Timedelta(x.new_los_minutes, 'm'), axis=1)"
   ]
  },
  {
   "cell_type": "code",
   "execution_count": 43,
   "id": "e34a4dcf-6141-4f38-8060-3789922e1778",
   "metadata": {},
   "outputs": [
    {
     "data": {
      "text/html": [
       "<div>\n",
       "<style scoped>\n",
       "    .dataframe tbody tr th:only-of-type {\n",
       "        vertical-align: middle;\n",
       "    }\n",
       "\n",
       "    .dataframe tbody tr th {\n",
       "        vertical-align: top;\n",
       "    }\n",
       "\n",
       "    .dataframe thead th {\n",
       "        text-align: right;\n",
       "    }\n",
       "</style>\n",
       "<table border=\"1\" class=\"dataframe\">\n",
       "  <thead>\n",
       "    <tr style=\"text-align: right;\">\n",
       "      <th></th>\n",
       "      <th>PatID</th>\n",
       "      <th>InRoomTS</th>\n",
       "      <th>OutRoomTS</th>\n",
       "      <th>PatType</th>\n",
       "      <th>new_los_hours</th>\n",
       "      <th>new_InRoomTS</th>\n",
       "      <th>new_OutRoomTS</th>\n",
       "      <th>new_los_minutes</th>\n",
       "    </tr>\n",
       "  </thead>\n",
       "  <tbody>\n",
       "    <tr>\n",
       "      <th>0</th>\n",
       "      <td>1</td>\n",
       "      <td>1996-01-01 07:44:00</td>\n",
       "      <td>1996-01-01 08:50:00</td>\n",
       "      <td>IVT</td>\n",
       "      <td>1.481479</td>\n",
       "      <td>2024-01-01 07:44:00</td>\n",
       "      <td>2024-01-01 09:20:00</td>\n",
       "      <td>96</td>\n",
       "    </tr>\n",
       "    <tr>\n",
       "      <th>1</th>\n",
       "      <td>2</td>\n",
       "      <td>1996-01-01 08:28:00</td>\n",
       "      <td>1996-01-01 09:20:00</td>\n",
       "      <td>IVT</td>\n",
       "      <td>1.311995</td>\n",
       "      <td>2024-01-01 08:28:00</td>\n",
       "      <td>2024-01-01 11:13:00</td>\n",
       "      <td>165</td>\n",
       "    </tr>\n",
       "    <tr>\n",
       "      <th>2</th>\n",
       "      <td>3</td>\n",
       "      <td>1996-01-01 11:44:00</td>\n",
       "      <td>1996-01-01 13:30:00</td>\n",
       "      <td>MYE</td>\n",
       "      <td>2.162773</td>\n",
       "      <td>2024-01-01 11:44:00</td>\n",
       "      <td>2024-01-01 12:48:00</td>\n",
       "      <td>64</td>\n",
       "    </tr>\n",
       "    <tr>\n",
       "      <th>3</th>\n",
       "      <td>4</td>\n",
       "      <td>1996-01-01 11:51:00</td>\n",
       "      <td>1996-01-01 12:55:00</td>\n",
       "      <td>CAT</td>\n",
       "      <td>9.932870</td>\n",
       "      <td>2024-01-01 11:51:00</td>\n",
       "      <td>2024-01-01 21:10:00</td>\n",
       "      <td>559</td>\n",
       "    </tr>\n",
       "    <tr>\n",
       "      <th>4</th>\n",
       "      <td>5</td>\n",
       "      <td>1996-01-01 12:10:00</td>\n",
       "      <td>1996-01-01 13:00:00</td>\n",
       "      <td>IVT</td>\n",
       "      <td>1.742876</td>\n",
       "      <td>2024-01-01 12:10:00</td>\n",
       "      <td>2024-01-01 12:57:00</td>\n",
       "      <td>47</td>\n",
       "    </tr>\n",
       "  </tbody>\n",
       "</table>\n",
       "</div>"
      ],
      "text/plain": [
       "   PatID            InRoomTS           OutRoomTS PatType  new_los_hours  \\\n",
       "0      1 1996-01-01 07:44:00 1996-01-01 08:50:00     IVT       1.481479   \n",
       "1      2 1996-01-01 08:28:00 1996-01-01 09:20:00     IVT       1.311995   \n",
       "2      3 1996-01-01 11:44:00 1996-01-01 13:30:00     MYE       2.162773   \n",
       "3      4 1996-01-01 11:51:00 1996-01-01 12:55:00     CAT       9.932870   \n",
       "4      5 1996-01-01 12:10:00 1996-01-01 13:00:00     IVT       1.742876   \n",
       "\n",
       "         new_InRoomTS       new_OutRoomTS  new_los_minutes  \n",
       "0 2024-01-01 07:44:00 2024-01-01 09:20:00               96  \n",
       "1 2024-01-01 08:28:00 2024-01-01 11:13:00              165  \n",
       "2 2024-01-01 11:44:00 2024-01-01 12:48:00               64  \n",
       "3 2024-01-01 11:51:00 2024-01-01 21:10:00              559  \n",
       "4 2024-01-01 12:10:00 2024-01-01 12:57:00               47  "
      ]
     },
     "execution_count": 43,
     "metadata": {},
     "output_type": "execute_result"
    }
   ],
   "source": [
    "ssu_stops_df.head()"
   ]
  },
  {
   "cell_type": "code",
   "execution_count": 44,
   "id": "6c85bb81-8db8-4b42-bc03-920dafeda245",
   "metadata": {},
   "outputs": [],
   "source": [
    "new_ssu_stops_df = ssu_stops_df[['PatID', 'new_InRoomTS', 'new_OutRoomTS', 'PatType']]"
   ]
  },
  {
   "cell_type": "code",
   "execution_count": 45,
   "id": "e590159a-0a08-471a-851f-80fcecd22c1e",
   "metadata": {},
   "outputs": [
    {
     "data": {
      "text/html": [
       "<div>\n",
       "<style scoped>\n",
       "    .dataframe tbody tr th:only-of-type {\n",
       "        vertical-align: middle;\n",
       "    }\n",
       "\n",
       "    .dataframe tbody tr th {\n",
       "        vertical-align: top;\n",
       "    }\n",
       "\n",
       "    .dataframe thead th {\n",
       "        text-align: right;\n",
       "    }\n",
       "</style>\n",
       "<table border=\"1\" class=\"dataframe\">\n",
       "  <thead>\n",
       "    <tr style=\"text-align: right;\">\n",
       "      <th></th>\n",
       "      <th>PatID</th>\n",
       "      <th>new_InRoomTS</th>\n",
       "      <th>new_OutRoomTS</th>\n",
       "      <th>PatType</th>\n",
       "    </tr>\n",
       "  </thead>\n",
       "  <tbody>\n",
       "    <tr>\n",
       "      <th>0</th>\n",
       "      <td>1</td>\n",
       "      <td>2024-01-01 07:44:00</td>\n",
       "      <td>2024-01-01 09:20:00</td>\n",
       "      <td>IVT</td>\n",
       "    </tr>\n",
       "    <tr>\n",
       "      <th>1</th>\n",
       "      <td>2</td>\n",
       "      <td>2024-01-01 08:28:00</td>\n",
       "      <td>2024-01-01 11:13:00</td>\n",
       "      <td>IVT</td>\n",
       "    </tr>\n",
       "    <tr>\n",
       "      <th>2</th>\n",
       "      <td>3</td>\n",
       "      <td>2024-01-01 11:44:00</td>\n",
       "      <td>2024-01-01 12:48:00</td>\n",
       "      <td>MYE</td>\n",
       "    </tr>\n",
       "    <tr>\n",
       "      <th>3</th>\n",
       "      <td>4</td>\n",
       "      <td>2024-01-01 11:51:00</td>\n",
       "      <td>2024-01-01 21:10:00</td>\n",
       "      <td>CAT</td>\n",
       "    </tr>\n",
       "    <tr>\n",
       "      <th>4</th>\n",
       "      <td>5</td>\n",
       "      <td>2024-01-01 12:10:00</td>\n",
       "      <td>2024-01-01 12:57:00</td>\n",
       "      <td>IVT</td>\n",
       "    </tr>\n",
       "  </tbody>\n",
       "</table>\n",
       "</div>"
      ],
      "text/plain": [
       "   PatID        new_InRoomTS       new_OutRoomTS PatType\n",
       "0      1 2024-01-01 07:44:00 2024-01-01 09:20:00     IVT\n",
       "1      2 2024-01-01 08:28:00 2024-01-01 11:13:00     IVT\n",
       "2      3 2024-01-01 11:44:00 2024-01-01 12:48:00     MYE\n",
       "3      4 2024-01-01 11:51:00 2024-01-01 21:10:00     CAT\n",
       "4      5 2024-01-01 12:10:00 2024-01-01 12:57:00     IVT"
      ]
     },
     "execution_count": 45,
     "metadata": {},
     "output_type": "execute_result"
    }
   ],
   "source": [
    "new_ssu_stops_df.head()"
   ]
  },
  {
   "cell_type": "code",
   "execution_count": 50,
   "id": "d97562e5-9670-4a45-9a22-362c1c44695b",
   "metadata": {},
   "outputs": [],
   "source": [
    "new_col_names = {'new_InRoomTS': 'InRoomTS', 'new_OutRoomTS': 'OutRoomTS'}\n",
    "new_ssu_stops_df = new_ssu_stops_df.rename(columns=new_col_names)\n",
    "new_ssu_stops_df.head()\n",
    "new_ssu_stops_df['LOS_hours'] = new_ssu_stops_df.apply(lambda x: (x.OutRoomTS - x.InRoomTS) / pd.Timedelta(1, 'h'), axis=1)"
   ]
  },
  {
   "cell_type": "code",
   "execution_count": 51,
   "id": "5c056b94-73c4-4355-9f06-741489a1e977",
   "metadata": {},
   "outputs": [
    {
     "data": {
      "text/html": [
       "<div>\n",
       "<style scoped>\n",
       "    .dataframe tbody tr th:only-of-type {\n",
       "        vertical-align: middle;\n",
       "    }\n",
       "\n",
       "    .dataframe tbody tr th {\n",
       "        vertical-align: top;\n",
       "    }\n",
       "\n",
       "    .dataframe thead th {\n",
       "        text-align: right;\n",
       "    }\n",
       "</style>\n",
       "<table border=\"1\" class=\"dataframe\">\n",
       "  <thead>\n",
       "    <tr style=\"text-align: right;\">\n",
       "      <th></th>\n",
       "      <th>PatID</th>\n",
       "      <th>InRoomTS</th>\n",
       "      <th>OutRoomTS</th>\n",
       "      <th>PatType</th>\n",
       "      <th>LOS_hours</th>\n",
       "    </tr>\n",
       "  </thead>\n",
       "  <tbody>\n",
       "    <tr>\n",
       "      <th>0</th>\n",
       "      <td>1</td>\n",
       "      <td>2024-01-01 07:44:00</td>\n",
       "      <td>2024-01-01 09:20:00</td>\n",
       "      <td>IVT</td>\n",
       "      <td>1.600000</td>\n",
       "    </tr>\n",
       "    <tr>\n",
       "      <th>1</th>\n",
       "      <td>2</td>\n",
       "      <td>2024-01-01 08:28:00</td>\n",
       "      <td>2024-01-01 11:13:00</td>\n",
       "      <td>IVT</td>\n",
       "      <td>2.750000</td>\n",
       "    </tr>\n",
       "    <tr>\n",
       "      <th>2</th>\n",
       "      <td>3</td>\n",
       "      <td>2024-01-01 11:44:00</td>\n",
       "      <td>2024-01-01 12:48:00</td>\n",
       "      <td>MYE</td>\n",
       "      <td>1.066667</td>\n",
       "    </tr>\n",
       "    <tr>\n",
       "      <th>3</th>\n",
       "      <td>4</td>\n",
       "      <td>2024-01-01 11:51:00</td>\n",
       "      <td>2024-01-01 21:10:00</td>\n",
       "      <td>CAT</td>\n",
       "      <td>9.316667</td>\n",
       "    </tr>\n",
       "    <tr>\n",
       "      <th>4</th>\n",
       "      <td>5</td>\n",
       "      <td>2024-01-01 12:10:00</td>\n",
       "      <td>2024-01-01 12:57:00</td>\n",
       "      <td>IVT</td>\n",
       "      <td>0.783333</td>\n",
       "    </tr>\n",
       "  </tbody>\n",
       "</table>\n",
       "</div>"
      ],
      "text/plain": [
       "   PatID            InRoomTS           OutRoomTS PatType  LOS_hours\n",
       "0      1 2024-01-01 07:44:00 2024-01-01 09:20:00     IVT   1.600000\n",
       "1      2 2024-01-01 08:28:00 2024-01-01 11:13:00     IVT   2.750000\n",
       "2      3 2024-01-01 11:44:00 2024-01-01 12:48:00     MYE   1.066667\n",
       "3      4 2024-01-01 11:51:00 2024-01-01 21:10:00     CAT   9.316667\n",
       "4      5 2024-01-01 12:10:00 2024-01-01 12:57:00     IVT   0.783333"
      ]
     },
     "execution_count": 51,
     "metadata": {},
     "output_type": "execute_result"
    }
   ],
   "source": [
    "new_ssu_stops_df.head()"
   ]
  },
  {
   "cell_type": "code",
   "execution_count": 52,
   "id": "6198baeb-c593-4e67-9761-d5fb74ae08e2",
   "metadata": {},
   "outputs": [],
   "source": [
    "new_ssu_stops_df.to_csv('ssu_2024.csv', index=False)"
   ]
  }
 ],
 "metadata": {
  "kernelspec": {
   "display_name": "Python [conda env:hm_oo]",
   "language": "python",
   "name": "conda-env-hm_oo-py"
  },
  "language_info": {
   "codemirror_mode": {
    "name": "ipython",
    "version": 3
   },
   "file_extension": ".py",
   "mimetype": "text/x-python",
   "name": "python",
   "nbconvert_exporter": "python",
   "pygments_lexer": "ipython3",
   "version": "3.10.12"
  }
 },
 "nbformat": 4,
 "nbformat_minor": 5
}
