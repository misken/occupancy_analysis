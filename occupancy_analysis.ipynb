{
 "cells": [
  {
   "cell_type": "markdown",
   "metadata": {
    "Collapsed": "false"
   },
   "source": [
    "# Comparison of occupancy analysis methods\n",
    "\n",
    "How do different ways of summarizing occupancy by TOD and DOW compare in terms of their results and computational cost. The main things I want to compare are:\n",
    "\n",
    "- hillmaker edge_bins setting 1 (fractional) vs 2 (whole bin)\n",
    "- combinations of edge_bin and bin_size_minutes\n",
    "- SQL snapshot approach using different grid sizes for epochs at which to do occupancy snapshots\n",
    "- direct analysis of occupancy sample path using weighted statistics\n",
    "\n",
    "Using datasets with varying LOS characteristics\n",
    "\n",
    "- SSU - LOS on the order of a few to several hours\n",
    "- SFCS - cycle share data from San Francisco. Highly variable ride durations with many short rides (median ~17 minutes).\n",
    "- others?\n",
    "  \n",
    "Ideally I'd like to get to guidelines for:\n",
    "\n",
    "- selecting a method and hyperparameter values based on the characteristics of the input data\n",
    "- choosing an appropriate analysis date range to mitigate horizon and warmup effects based on the characteristics of the input data"
   ]
  },
  {
   "cell_type": "markdown",
   "metadata": {},
   "source": [
    "## Random notes\n",
    "\n",
    "In addition to the summary plots, look at the bydatetime plots."
   ]
  },
  {
   "cell_type": "markdown",
   "metadata": {
    "Collapsed": "false"
   },
   "source": [
    "## Preliminaries"
   ]
  },
  {
   "cell_type": "code",
   "execution_count": 2,
   "metadata": {
    "Collapsed": "false"
   },
   "outputs": [],
   "source": [
    "# To auto-reload modules in jupyter notebook (so that changes in files *.py doesn't require manual reloading):\n",
    "# https://stackoverflow.com/questions/5364050/reloading-submodules-in-ipython\n",
    "%load_ext autoreload\n",
    "%autoreload 2"
   ]
  },
  {
   "cell_type": "markdown",
   "metadata": {
    "Collapsed": "false"
   },
   "source": [
    "Import commonly used libraries and magic command for inline plotting"
   ]
  },
  {
   "cell_type": "code",
   "execution_count": 3,
   "metadata": {
    "Collapsed": "false"
   },
   "outputs": [],
   "source": [
    "import numpy as np\n",
    "import pandas as pd\n",
    "import matplotlib.pyplot as plt\n",
    "\n",
    "import hillmaker as hm\n"
   ]
  },
  {
   "cell_type": "code",
   "execution_count": 4,
   "metadata": {},
   "outputs": [],
   "source": [
    "%matplotlib inline"
   ]
  },
  {
   "cell_type": "markdown",
   "metadata": {
    "Collapsed": "false"
   },
   "source": [
    "## The stops datasets\n",
    "\n",
    "We'll use two different datasets.\n",
    "\n",
    "### ssu_2024.csv\n",
    "\n",
    "This is based on the orginal ShortStay.csv file but with more realistic LOS distributions. The arrival timestamps are identical. See **generate_ssu_stops.ipynb** for how the file was generated. These LOS distributions have means ranging from 2 - 8 hours and are all Erlang distributions with different numbers of stages.\n",
    "\n",
    "### sfcs_trip.csv\n",
    "\n",
    "San Francisco cycle share data. The rental durations are relatively short with the median around 17 minutes. Of course, there's lots of variability."
   ]
  },
  {
   "cell_type": "code",
   "execution_count": 5,
   "metadata": {
    "Collapsed": "false"
   },
   "outputs": [],
   "source": [
    "ssu_stopdata = './data/ssu_2024.csv'\n",
    "sfcs_stopdata = './data/sfcs_trip.csv'\n",
    "\n",
    "ssu_2024 = pd.read_csv(ssu_stopdata, parse_dates=['InRoomTS','OutRoomTS'])\n",
    "\n",
    "sfcs_trip = pd.read_csv(sfcs_stopdata, parse_dates=['start_date','end_date'])\n",
    "sfcs_trip['start_date'] = sfcs_trip['start_date'].dt.tz_localize(None)\n",
    "sfcs_trip['end_date'] = sfcs_trip['end_date'].dt.tz_localize(None)\n",
    "\n"
   ]
  },
  {
   "cell_type": "markdown",
   "metadata": {},
   "source": [
    "## Initial hillmaker runs\n",
    "\n",
    "I'll run these with default settings (edge_bins=1, and bin_size_minutes=60). We can use this run to explore the LOS summaries."
   ]
  },
  {
   "cell_type": "markdown",
   "metadata": {},
   "source": [
    "### SSU"
   ]
  },
  {
   "cell_type": "code",
   "execution_count": 6,
   "metadata": {},
   "outputs": [
    {
     "data": {
      "text/html": [
       "<div>\n",
       "<style scoped>\n",
       "    .dataframe tbody tr th:only-of-type {\n",
       "        vertical-align: middle;\n",
       "    }\n",
       "\n",
       "    .dataframe tbody tr th {\n",
       "        vertical-align: top;\n",
       "    }\n",
       "\n",
       "    .dataframe thead th {\n",
       "        text-align: right;\n",
       "    }\n",
       "</style>\n",
       "<table border=\"1\" class=\"dataframe\">\n",
       "  <thead>\n",
       "    <tr style=\"text-align: right;\">\n",
       "      <th></th>\n",
       "      <th>PatID</th>\n",
       "      <th>InRoomTS</th>\n",
       "      <th>OutRoomTS</th>\n",
       "      <th>PatType</th>\n",
       "      <th>LOS_hours</th>\n",
       "    </tr>\n",
       "  </thead>\n",
       "  <tbody>\n",
       "    <tr>\n",
       "      <th>0</th>\n",
       "      <td>1</td>\n",
       "      <td>2024-01-01 07:44:00</td>\n",
       "      <td>2024-01-01 09:20:00</td>\n",
       "      <td>IVT</td>\n",
       "      <td>1.600000</td>\n",
       "    </tr>\n",
       "    <tr>\n",
       "      <th>1</th>\n",
       "      <td>2</td>\n",
       "      <td>2024-01-01 08:28:00</td>\n",
       "      <td>2024-01-01 11:13:00</td>\n",
       "      <td>IVT</td>\n",
       "      <td>2.750000</td>\n",
       "    </tr>\n",
       "    <tr>\n",
       "      <th>2</th>\n",
       "      <td>3</td>\n",
       "      <td>2024-01-01 11:44:00</td>\n",
       "      <td>2024-01-01 12:48:00</td>\n",
       "      <td>MYE</td>\n",
       "      <td>1.066667</td>\n",
       "    </tr>\n",
       "    <tr>\n",
       "      <th>3</th>\n",
       "      <td>4</td>\n",
       "      <td>2024-01-01 11:51:00</td>\n",
       "      <td>2024-01-01 21:10:00</td>\n",
       "      <td>CAT</td>\n",
       "      <td>9.316667</td>\n",
       "    </tr>\n",
       "    <tr>\n",
       "      <th>4</th>\n",
       "      <td>5</td>\n",
       "      <td>2024-01-01 12:10:00</td>\n",
       "      <td>2024-01-01 12:57:00</td>\n",
       "      <td>IVT</td>\n",
       "      <td>0.783333</td>\n",
       "    </tr>\n",
       "  </tbody>\n",
       "</table>\n",
       "</div>"
      ],
      "text/plain": [
       "   PatID            InRoomTS           OutRoomTS PatType  LOS_hours\n",
       "0      1 2024-01-01 07:44:00 2024-01-01 09:20:00     IVT   1.600000\n",
       "1      2 2024-01-01 08:28:00 2024-01-01 11:13:00     IVT   2.750000\n",
       "2      3 2024-01-01 11:44:00 2024-01-01 12:48:00     MYE   1.066667\n",
       "3      4 2024-01-01 11:51:00 2024-01-01 21:10:00     CAT   9.316667\n",
       "4      5 2024-01-01 12:10:00 2024-01-01 12:57:00     IVT   0.783333"
      ]
     },
     "execution_count": 6,
     "metadata": {},
     "output_type": "execute_result"
    }
   ],
   "source": [
    "ssu_2024.head()"
   ]
  },
  {
   "cell_type": "markdown",
   "metadata": {},
   "source": [
    "For the following, I'm not exporting any csv or plots. I've got Python scripts (see `run_ssu_2024.py`) that do the actual production runs over a grid of values of `edge_bins`, `bin_size_minutes`, and `highres_bin_size_minutes`.\n",
    "\n",
    "The main initial findings after snooping some of the results are:\n",
    "\n",
    "- for `edge_bins=1` the occupancy summaries are not impacted much at all by the use of `highres_bin_size_minutes`. Mean and p95 occupancy for a given setting of `bin_size_minutes` is identical across all values of `highres_bin_size_minutes`.\n",
    "- for `edge_bins=2` it is critical to use a small value of for `highres_bin_size_minutes` to avoid extreme overestimation of occupancy (both mean and p95).\n",
    "- even relatively coarse bin sizes are fine as long as `edge_bins=1`.\n",
    "\n",
    "**QUESTION** Should we get rid of `edge_bins=2`?\n",
    "\n",
    "- avoids user doing something silly\n",
    "- the addition of the high resolution bin size parameter gives the ability to compute very accurate occupancy statistics and still be able to roll them up and report at more reasonable bin sizes.\n",
    "\n",
    "**QUESTION** How are percentiles based on rolled up occupancy different than percentiles computed on the higher resolution bin sizes? In other words, what does e1_b5_r5 look like in terms of percentiles?\n",
    "\n",
    "**QUESTION** How does hillmaker approach differ from a weighted sample occupancy path approach?\n",
    "\n",
    "**QUESTION** How does hillmaker approach differ from doing a SQL based snapshot at fixed time points?"
   ]
  },
  {
   "cell_type": "code",
   "execution_count": 7,
   "metadata": {},
   "outputs": [
    {
     "name": "stderr",
     "output_type": "stream",
     "text": [
      "2023-09-26 12:58:08,547 - hillmaker.hills - INFO - Starting scenario ssu_edge1_bin60_res5 at 8.099541874\n",
      "2023-09-26 12:58:08,552 - hillmaker.bydatetime - INFO - min of intime: 2024-01-01 07:44:00\n",
      "2023-09-26 12:58:08,555 - hillmaker.bydatetime - INFO - max of intime: 2024-03-30 14:46:00\n",
      "2023-09-26 12:58:08,557 - hillmaker.bydatetime - INFO - min of outtime: 2024-01-01 09:20:00\n",
      "2023-09-26 12:58:08,559 - hillmaker.bydatetime - INFO - max of outtime: 2024-03-31 00:36:00\n",
      "2023-09-26 12:58:08,562 - hillmaker.bydatetime - INFO - start analysis: 2024-01-01, end analysis: 2024-03-30\n",
      "2023-09-26 12:58:08,585 - hillmaker.bydatetime - INFO - min of entry time_bin = 92\n",
      "2023-09-26 12:58:08,588 - hillmaker.bydatetime - INFO - max of exit time_bin = 25809 and num_bins=25920\n",
      "2023-09-26 12:58:08,825 - hillmaker.bydatetime - INFO - cat IVT {'inner': 10911}\n",
      "2023-09-26 12:58:08,842 - hillmaker.bydatetime - INFO - cat IVT num_arrivals_hm 10911 num_arrivals_stops 10911\n",
      "2023-09-26 12:58:08,843 - hillmaker.bydatetime - INFO - cat IVT num_departures_hm 10911 num_departures_stops 10911\n",
      "2023-09-26 12:58:08,845 - hillmaker.bydatetime - INFO - cat IVT tot_occ_hm 260977.00 tot_occ_stops 260977.00\n",
      "2023-09-26 12:58:08,848 - hillmaker.bydatetime - INFO - min of entry time_bin = 140\n",
      "2023-09-26 12:58:08,849 - hillmaker.bydatetime - INFO - max of exit time_bin = 25795 and num_bins=25920\n",
      "2023-09-26 12:58:08,932 - hillmaker.bydatetime - INFO - cat MYE {'inner': 2121}\n",
      "2023-09-26 12:58:08,938 - hillmaker.bydatetime - INFO - cat MYE num_arrivals_hm 2121 num_arrivals_stops 2121\n",
      "2023-09-26 12:58:08,939 - hillmaker.bydatetime - INFO - cat MYE num_departures_hm 2121 num_departures_stops 2121\n",
      "2023-09-26 12:58:08,941 - hillmaker.bydatetime - INFO - cat MYE tot_occ_hm 50314.00 tot_occ_stops 50314.00\n",
      "2023-09-26 12:58:08,946 - hillmaker.bydatetime - INFO - min of entry time_bin = 142\n",
      "2023-09-26 12:58:08,947 - hillmaker.bydatetime - INFO - max of exit time_bin = 25927 and num_bins=25920\n",
      "2023-09-26 12:58:09,027 - hillmaker.bydatetime - INFO - cat CAT {'inner': 3547, 'right': 1}\n",
      "2023-09-26 12:58:09,034 - hillmaker.bydatetime - INFO - cat CAT num_arrivals_hm 3548 num_arrivals_stops 3548\n",
      "2023-09-26 12:58:09,035 - hillmaker.bydatetime - INFO - cat CAT num_departures_hm 3547 num_departures_stops 3547\n",
      "2023-09-26 12:58:09,038 - hillmaker.bydatetime - INFO - cat CAT tot_occ_hm 212246.40 tot_occ_stops 212253.60\n",
      "2023-09-26 12:58:09,042 - hillmaker.bydatetime - INFO - min of entry time_bin = 367\n",
      "2023-09-26 12:58:09,044 - hillmaker.bydatetime - INFO - max of exit time_bin = 25600 and num_bins=25920\n",
      "2023-09-26 12:58:09,093 - hillmaker.bydatetime - INFO - cat ART {'inner': 1941}\n",
      "2023-09-26 12:58:09,099 - hillmaker.bydatetime - INFO - cat ART num_arrivals_hm 1941 num_arrivals_stops 1941\n",
      "2023-09-26 12:58:09,100 - hillmaker.bydatetime - INFO - cat ART num_departures_hm 1941 num_departures_stops 1941\n",
      "2023-09-26 12:58:09,103 - hillmaker.bydatetime - INFO - cat ART tot_occ_hm 90822.00 tot_occ_stops 90822.00\n",
      "2023-09-26 12:58:09,107 - hillmaker.bydatetime - INFO - min of entry time_bin = 368\n",
      "2023-09-26 12:58:09,108 - hillmaker.bydatetime - INFO - max of exit time_bin = 25613 and num_bins=25920\n",
      "2023-09-26 12:58:09,177 - hillmaker.bydatetime - INFO - cat OTH {'inner': 1274}\n",
      "2023-09-26 12:58:09,185 - hillmaker.bydatetime - INFO - cat OTH num_arrivals_hm 1274 num_arrivals_stops 1274\n",
      "2023-09-26 12:58:09,187 - hillmaker.bydatetime - INFO - cat OTH num_departures_hm 1274 num_departures_stops 1274\n",
      "2023-09-26 12:58:09,189 - hillmaker.bydatetime - INFO - cat OTH tot_occ_hm 121509.40 tot_occ_stops 121509.40\n",
      "2023-09-26 12:58:09,991 - hillmaker.hills - INFO - Datetime matrix created (seconds): 1.4523\n",
      "2023-09-26 12:58:16,080 - hillmaker.summarize - INFO - Created nonstationary summaries - ['PatType']\n",
      "2023-09-26 12:58:17,246 - hillmaker.summarize - INFO - Created nonstationary summaries - []\n",
      "2023-09-26 12:58:17,275 - hillmaker.summarize - INFO - Created stationary summaries - ['PatType']\n",
      "2023-09-26 12:58:17,286 - hillmaker.summarize - INFO - Created stationary summaries - []\n",
      "2023-09-26 12:58:17,287 - hillmaker.hills - INFO - Summaries by datetime created (seconds): 7.2926\n",
      "2023-09-26 12:58:18,296 - hillmaker.hills - INFO - Length of stay summary created (seconds): 0.9864\n",
      "2023-09-26 12:58:18,297 - hillmaker.hills - INFO - bydatetime and summaries by datetime created (seconds): 9.7373\n",
      "2023-09-26 12:58:18,384 - hillmaker.hills - INFO - By datetime exported to csv in output/ssu_2024 (seconds): 0.0861\n",
      "2023-09-26 12:58:18,465 - hillmaker.hills - INFO - Summaries exported to csv in output/ssu_2024 (seconds): 0.0809\n",
      "2023-09-26 12:58:20,183 - hillmaker.plotting - INFO - Full week plots created (seconds): 1.6899\n",
      "2023-09-26 12:58:20,184 - hillmaker.hills - INFO - Total time (seconds): 11.5977\n",
      "2023-09-26 12:58:20,184 - hillmaker.hills - INFO - Scenario ssu_edge1_bin60_res5 complete at 19.697275413\n",
      "\n"
     ]
    }
   ],
   "source": [
    "# Scenario inputs\n",
    "\n",
    "ssu_e1_b60_r5_dict = {'scenario_name': 'ssu_edge1_bin60_res5',\n",
    "                   'stops_df': ssu_2024,\n",
    "                   'in_field': 'InRoomTS',\n",
    "                   'out_field': 'OutRoomTS',\n",
    "                   'start_analysis_dt': '2024-01-01',\n",
    "                   'end_analysis_dt': '2024-03-30',\n",
    "                   'cat_field': 'PatType',\n",
    "                   'output_path': 'output/ssu_2024',\n",
    "                   'bin_size_minutes': 60,\n",
    "                   'highres_bin_size_minutes': 5,\n",
    "                   'keep_highres_bydatetime': True,\n",
    "                   'edge_bins': 1,\n",
    "                   'export_bydatetime_csv': False,\n",
    "                   'export_summaries_csv': False,\n",
    "                   'make_all_dow_plots': False,\n",
    "                   'make_all_week_plots': False,\n",
    "                   'export_all_dow_plots': False,\n",
    "                   'export_all_week_plots': False,\n",
    "                   'verbosity': 1,\n",
    "                  }\n",
    "    \n",
    "ssu_e1_b60_r5 = hm.Scenario(**ssu_e1_b60_r5_dict)\n",
    "\n",
    "ssu_e1_b60_r5.make_hills()"
   ]
  },
  {
   "cell_type": "code",
   "execution_count": 8,
   "metadata": {},
   "outputs": [
    {
     "data": {
      "text/plain": [
       "dict_keys(['bydatetime', 'summaries', 'length_of_stay', 'settings', 'bydatetime_highres', 'plots', 'runtime'])"
      ]
     },
     "execution_count": 8,
     "metadata": {},
     "output_type": "execute_result"
    }
   ],
   "source": [
    "ssu_e1_b60_r5.hills.keys()"
   ]
  },
  {
   "cell_type": "code",
   "execution_count": 9,
   "metadata": {},
   "outputs": [
    {
     "data": {
      "text/plain": [
       "11.597733539"
      ]
     },
     "execution_count": 9,
     "metadata": {},
     "output_type": "execute_result"
    }
   ],
   "source": [
    "ssu_e1_b60_r5.hills['runtime']"
   ]
  },
  {
   "cell_type": "code",
   "execution_count": null,
   "metadata": {},
   "outputs": [],
   "source": [
    "# Scenario inputs\n",
    "\n",
    "ssu_e1_b60_r60_dict = {'scenario_name': 'ssu_edge1_bin60_res60',\n",
    "                   'stops_df': ssu_2024,\n",
    "                   'in_field': 'InRoomTS',\n",
    "                   'out_field': 'OutRoomTS',\n",
    "                   'start_analysis_dt': '2024-01-01',\n",
    "                   'end_analysis_dt': '2024-03-30',\n",
    "                   'cat_field': 'PatType',\n",
    "                   'output_path': 'output/ssu_2024',\n",
    "                   'bin_size_minutes': 60,\n",
    "                   'highres_bin_size_minutes': 60,\n",
    "                   'keep_highres_bydatetime': True,\n",
    "                   'edge_bins': 1,\n",
    "                   'export_bydatetime_csv': False,\n",
    "                   'export_summaries_csv': False,\n",
    "                   'make_all_dow_plots': False,\n",
    "                   'make_all_week_plots': False,\n",
    "                   'export_all_dow_plots': False,\n",
    "                   'export_all_week_plots': False,\n",
    "                   'verbosity': 1,\n",
    "                  }\n",
    "    \n",
    "ssu_e1_b60_r60 = hm.Scenario(**ssu_e1_b60_r60_dict)\n",
    "\n",
    "ssu_e1_b60_r60.make_hills()"
   ]
  },
  {
   "cell_type": "code",
   "execution_count": null,
   "metadata": {},
   "outputs": [],
   "source": []
  },
  {
   "cell_type": "code",
   "execution_count": null,
   "metadata": {},
   "outputs": [],
   "source": []
  },
  {
   "cell_type": "code",
   "execution_count": null,
   "metadata": {},
   "outputs": [],
   "source": []
  },
  {
   "cell_type": "code",
   "execution_count": null,
   "metadata": {},
   "outputs": [],
   "source": []
  },
  {
   "cell_type": "markdown",
   "metadata": {},
   "source": [
    "## SFCS"
   ]
  },
  {
   "cell_type": "code",
   "execution_count": null,
   "metadata": {},
   "outputs": [],
   "source": [
    "sfcs_trip.head()"
   ]
  },
  {
   "cell_type": "code",
   "execution_count": null,
   "metadata": {},
   "outputs": [],
   "source": [
    "sfcs_trip_noparse.head()"
   ]
  },
  {
   "cell_type": "code",
   "execution_count": null,
   "metadata": {},
   "outputs": [],
   "source": [
    "sfcs_trip['duration'].describe()"
   ]
  },
  {
   "cell_type": "code",
   "execution_count": null,
   "metadata": {},
   "outputs": [],
   "source": [
    "1107/60"
   ]
  },
  {
   "cell_type": "markdown",
   "metadata": {},
   "source": [
    "With such a short mean service time, I'd expect 15 minute bins to show considerable difference for different edge_bins settings."
   ]
  },
  {
   "cell_type": "code",
   "execution_count": null,
   "metadata": {},
   "outputs": [],
   "source": [
    "# Scenario inputs\n",
    "\n",
    "sfcs_e1_b15_dict = {'scenario_name': 'sfcs_edge1_bin15',\n",
    "                   'stops_df': sfcs_trip,\n",
    "                   'in_field': 'start_date',\n",
    "                   'out_field': 'end_date',\n",
    "                   'start_analysis_dt': '2014-05-01',\n",
    "                   'end_analysis_dt': '2014-09-30',\n",
    "                   'cat_field': 'subscription_type',\n",
    "                   'output_path': 'output/sfcs_trip',\n",
    "                   'bin_size_minutes': 15,\n",
    "                   'edge_bins': 1,\n",
    "                   'export_bydatetime_csv': True,\n",
    "                   'export_summaries_csv': True,\n",
    "                   'make_all_dow_plots': True,\n",
    "                   'make_all_week_plots': True,\n",
    "                   'export_all_dow_plots': True,\n",
    "                   'export_all_week_plots': True,\n",
    "                   'verbosity': 1,\n",
    "                  }\n",
    "    \n",
    "sfcs_e1_b15 = hm.Scenario(**sfcs_e1_b15_dict)\n",
    "\n",
    "\n",
    "sfcs_e1_b15.make_hills()"
   ]
  },
  {
   "cell_type": "code",
   "execution_count": null,
   "metadata": {},
   "outputs": [],
   "source": [
    "# Scenario inputs\n",
    "\n",
    "sfcs_e2_b15_dict = {'scenario_name': 'sfcs_edge2_bin15',\n",
    "                   'stops_df': sfcs_trip,\n",
    "                   'in_field': 'start_date',\n",
    "                   'out_field': 'end_date',\n",
    "                   'start_analysis_dt': '2014-05-01',\n",
    "                   'end_analysis_dt': '2014-09-30',\n",
    "                   'cat_field': 'subscription_type',\n",
    "                   'output_path': 'output/sfcs_trip',\n",
    "                   'bin_size_minutes': 15,\n",
    "                   'edge_bins': 2,\n",
    "                   'export_bydatetime_csv': True,\n",
    "                   'export_summaries_csv': True,\n",
    "                   'make_all_dow_plots': True,\n",
    "                   'make_all_week_plots': True,\n",
    "                   'export_all_dow_plots': True,\n",
    "                   'export_all_week_plots': True,\n",
    "                   'verbosity': 1,\n",
    "                  }\n",
    "    \n",
    "sfcs_e2_b15 = hm.Scenario(**sfcs_e2_b15_dict)\n",
    "\n",
    "\n",
    "sfcs_e2_b15.make_hills()"
   ]
  },
  {
   "cell_type": "code",
   "execution_count": null,
   "metadata": {},
   "outputs": [],
   "source": []
  }
 ],
 "metadata": {
  "kernelspec": {
   "display_name": "Python [conda env:hm_oo]",
   "language": "python",
   "name": "conda-env-hm_oo-py"
  },
  "language_info": {
   "codemirror_mode": {
    "name": "ipython",
    "version": 3
   },
   "file_extension": ".py",
   "mimetype": "text/x-python",
   "name": "python",
   "nbconvert_exporter": "python",
   "pygments_lexer": "ipython3",
   "version": "3.10.12"
  },
  "toc-autonumbering": true
 },
 "nbformat": 4,
 "nbformat_minor": 4
}
